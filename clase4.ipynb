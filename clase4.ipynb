{
 "cells": [
  {
   "cell_type": "markdown",
   "id": "7d2cc7d9",
   "metadata": {},
   "source": [
    "## Fundamentos de clases y objetos"
   ]
  },
  {
   "cell_type": "markdown",
   "id": "c878a0fe",
   "metadata": {},
   "source": [
    "### Atributos de Clase e Instancia"
   ]
  },
  {
   "cell_type": "code",
   "execution_count": null,
   "id": "f20cb741",
   "metadata": {},
   "outputs": [],
   "source": [
    "class Vehiculo:\n",
    "    pais=\"Peru\" ##Atributo de clase COM[ARTIDO POR TODAS LAS INSTANCIAS]\n",
    "\n",
    "    def __init__(self, marca, modelo, color): #definiendo instancias\n",
    "        self.marca=marca ## Atributo de instancia, DIFERENTE PARA CADA UNA\n",
    "        self.modelo=modelo\n",
    "        self.color=color"
   ]
  },
  {
   "cell_type": "code",
   "execution_count": null,
   "id": "f46282b3",
   "metadata": {},
   "outputs": [],
   "source": [
    "vehiculo1=Vehiculo(\"Toyota\", \"Corolla\", \"Rojo\") #Define cada instancia Vehiculo\n",
    "vehiculo2=Vehiculo(\"Ford\", \"Fiesta\", \"Negro\")\n",
    "vehiculo3=Vehiculo(\"GHonda\", \"Civic\", \"Azul\")"
   ]
  },
  {
   "cell_type": "code",
   "execution_count": 6,
   "id": "d3a7c19b",
   "metadata": {},
   "outputs": [
    {
     "name": "stdout",
     "output_type": "stream",
     "text": [
      "<__main__.Vehiculo object at 0x0000014145B52390>\n",
      "Marca:Toyota\n",
      "Modelo:Corolla\n",
      "Color:Rojo\n"
     ]
    }
   ],
   "source": [
    "print(\"vehiculo 1\")\n",
    "print(f\"Marca:{vehiculo1.marca}\")\n",
    "print(f\"Modelo:{vehiculo1.modelo}\")\n",
    "print(f\"Color:{vehiculo1.color}\")"
   ]
  },
  {
   "cell_type": "code",
   "execution_count": 5,
   "id": "bde87204",
   "metadata": {},
   "outputs": [
    {
     "name": "stdout",
     "output_type": "stream",
     "text": [
      "vehiculo 2\n",
      "Marca:Ford\n",
      "Modelo:Fiesta\n",
      "Color:Negro\n"
     ]
    }
   ],
   "source": [
    "print(\"vehiculo 2\")\n",
    "print(f\"Marca:{vehiculo2.marca}\")\n",
    "print(f\"Modelo:{vehiculo2.modelo}\")\n",
    "print(f\"Color:{vehiculo2.color}\")"
   ]
  },
  {
   "cell_type": "code",
   "execution_count": 7,
   "id": "c2cbfd63",
   "metadata": {},
   "outputs": [
    {
     "name": "stdout",
     "output_type": "stream",
     "text": [
      "Pais de los vehiculos\n",
      "Vehiculo 1: Peru\n",
      "Vehiculo 1: Peru\n",
      "Vehiculo 1: Peru\n"
     ]
    }
   ],
   "source": [
    "print(\"Pais de los vehiculos\")\n",
    "print(f\"Vehiculo 1: {vehiculo1.pais}\")\n",
    "print(f\"Vehiculo 1: {vehiculo2.pais}\")\n",
    "print(f\"Vehiculo 1: {vehiculo3.pais}\")"
   ]
  },
  {
   "cell_type": "code",
   "execution_count": null,
   "id": "003c8701",
   "metadata": {},
   "outputs": [],
   "source": [
    "vehiculo1.color=\"Amarillo\"\n",
    "vehiculo2.color=\"Verde\"\n",
    "vehiculo3.color\"Celeste\""
   ]
  },
  {
   "cell_type": "markdown",
   "id": "afbf4c18",
   "metadata": {},
   "source": [
    "### Metodos de Clase e Instancia"
   ]
  },
  {
   "cell_type": "code",
   "execution_count": 10,
   "id": "295aa684",
   "metadata": {},
   "outputs": [],
   "source": [
    "class Vehiculo:\n",
    "    pais=\"Peru\" \n",
    "\n",
    "    def __init__(self, marca, modelo, color): \n",
    "        self.marca=marca \n",
    "        self.modelo=modelo\n",
    "        self.color=color\n",
    "\n",
    "    def mostrar_info(self): #Define Metodo de la instancia, HAY QUE PONERLE EL SELF\n",
    "        print(f\"Marca: {self.marca}, Modelo: {self.modelo}, Color: {self.color}\")\n",
    "\n",
    "    @classmethod #Decorador, modifica como funciona un metodo\n",
    "    def mostrar_pais(cls): #Define Metodo de la clase, HAY QUE PONERLE EL SELF\n",
    "        print(f\"Pais: {cls.pais}\") #Cuando queremos llamar un atributo de clase dnetro de la misma se llama con cls"
   ]
  },
  {
   "cell_type": "code",
   "execution_count": 11,
   "id": "0eead4a5",
   "metadata": {},
   "outputs": [],
   "source": [
    "vehiculo1=Vehiculo(\"Toyota\", \"Corolla\", \"Rojo\")\n",
    "vehiculo2=Vehiculo(\"Ford\", \"Fiesta\", \"Negro\")\n",
    "vehiculo3=Vehiculo(\"GHonda\", \"Civic\", \"Azul\")"
   ]
  },
  {
   "cell_type": "code",
   "execution_count": 13,
   "id": "00eedfed",
   "metadata": {},
   "outputs": [
    {
     "name": "stdout",
     "output_type": "stream",
     "text": [
      "Vehiculo 1\n",
      "Marca: Toyota, Modelo: Corolla, Color: Rojo\n",
      "Vehiculo 2\n",
      "Marca: Ford, Modelo: Fiesta, Color: Negro\n",
      "Vehiculo 3\n",
      "Marca: GHonda, Modelo: Civic, Color: Azul\n"
     ]
    }
   ],
   "source": [
    "print(\"Vehiculo 1\")\n",
    "vehiculo1.mostrar_info()\n",
    "print(\"Vehiculo 2\")\n",
    "vehiculo2.mostrar_info()\n",
    "print(\"Vehiculo 3\")\n",
    "vehiculo3.mostrar_info()"
   ]
  },
  {
   "cell_type": "code",
   "execution_count": 18,
   "id": "a07234a1",
   "metadata": {},
   "outputs": [
    {
     "name": "stdout",
     "output_type": "stream",
     "text": [
      "Vehiculo 1\n",
      "Pais: Peru\n",
      "Vehiculo 2\n",
      "Pais: Peru\n",
      "Vehiculo 3\n",
      "Pais: Peru\n",
      "---- ---- ----\n",
      "Pais: Peru\n"
     ]
    },
    {
     "ename": "TypeError",
     "evalue": "Vehiculo.mostrar_info() missing 1 required positional argument: 'self'",
     "output_type": "error",
     "traceback": [
      "\u001b[31m---------------------------------------------------------------------------\u001b[39m",
      "\u001b[31mTypeError\u001b[39m                                 Traceback (most recent call last)",
      "\u001b[36mCell\u001b[39m\u001b[36m \u001b[39m\u001b[32mIn[18]\u001b[39m\u001b[32m, line 9\u001b[39m\n\u001b[32m      7\u001b[39m \u001b[38;5;28mprint\u001b[39m(\u001b[33m\"\u001b[39m\u001b[33m---- ---- ----\u001b[39m\u001b[33m\"\u001b[39m)\n\u001b[32m      8\u001b[39m Vehiculo.mostrar_pais() \u001b[38;5;66;03m#Como es metodo de clase se llama con la clase normal\u001b[39;00m\n\u001b[32m----> \u001b[39m\u001b[32m9\u001b[39m \u001b[43mVehiculo\u001b[49m\u001b[43m.\u001b[49m\u001b[43mmostrar_info\u001b[49m\u001b[43m(\u001b[49m\u001b[43m)\u001b[49m \u001b[38;5;66;03m#Como es metodo de instancia si la llamas directo con la clase sale error\u001b[39;00m\n",
      "\u001b[31mTypeError\u001b[39m: Vehiculo.mostrar_info() missing 1 required positional argument: 'self'"
     ]
    }
   ],
   "source": [
    "print(\"Vehiculo 1\")\n",
    "vehiculo1.mostrar_pais()\n",
    "print(\"Vehiculo 2\")\n",
    "vehiculo2.mostrar_pais()\n",
    "print(\"Vehiculo 3\")\n",
    "vehiculo3.mostrar_pais()\n",
    "print(\"---- ---- ----\")\n",
    "Vehiculo.mostrar_pais() #Como es metodo de clase se llama con la clase normal\n",
    "Vehiculo.mostrar_info() #Como es metodo de instancia si la llamas directo con la clase sale error"
   ]
  },
  {
   "cell_type": "markdown",
   "id": "8d0e138a",
   "metadata": {},
   "source": [
    "## Encapsulamiento"
   ]
  },
  {
   "cell_type": "code",
   "execution_count": 19,
   "id": "af264d1a",
   "metadata": {},
   "outputs": [],
   "source": [
    "class Persona:\n",
    "    def __init__(self, nombre, edad, estado_civil, dni):\n",
    "        self.nombre=nombre #Atributo publico\n",
    "        self.edad=edad\n",
    "        self._estado_civil=estado_civil #atributo protegido\n",
    "        self.__dni=dni #atributo privado\n",
    "\n",
    "    def get_estado_civil(self):\n",
    "        return self._estado_civil\n",
    "    \n",
    "    def set_estado_civil(self, nuevo_valor):\n",
    "        self._estado_civil=nuevo_valor\n",
    "\n",
    "    def get_dni(self):\n",
    "        return self.__dni\n",
    "    \n",
    "    def set_dni(self, nuevo_valor):\n",
    "        self.__dni=nuevo_valor"
   ]
  },
  {
   "cell_type": "code",
   "execution_count": 21,
   "id": "44f3fc30",
   "metadata": {},
   "outputs": [
    {
     "name": "stdout",
     "output_type": "stream",
     "text": [
      "Atributos publicos\n",
      "Marco\n",
      "39\n",
      "Atributos protegidos\n",
      "Casado\n",
      "Atributos privados\n"
     ]
    },
    {
     "ename": "AttributeError",
     "evalue": "'Persona' object has no attribute '__dni'",
     "output_type": "error",
     "traceback": [
      "\u001b[31m---------------------------------------------------------------------------\u001b[39m",
      "\u001b[31mAttributeError\u001b[39m                            Traceback (most recent call last)",
      "\u001b[36mCell\u001b[39m\u001b[36m \u001b[39m\u001b[32mIn[21]\u001b[39m\u001b[32m, line 9\u001b[39m\n\u001b[32m      7\u001b[39m \u001b[38;5;28mprint\u001b[39m(persona1._estado_civil)\n\u001b[32m      8\u001b[39m \u001b[38;5;28mprint\u001b[39m(\u001b[33m\"\u001b[39m\u001b[33mAtributos privados\u001b[39m\u001b[33m\"\u001b[39m)\n\u001b[32m----> \u001b[39m\u001b[32m9\u001b[39m \u001b[38;5;28mprint\u001b[39m(\u001b[43mpersona1\u001b[49m\u001b[43m.\u001b[49m\u001b[43m__dni\u001b[49m)\n",
      "\u001b[31mAttributeError\u001b[39m: 'Persona' object has no attribute '__dni'"
     ]
    }
   ],
   "source": [
    "persona1=Persona(\"Marco\", 39, \"Casado\", 43434343)\n",
    "\n",
    "print(\"Atributos publicos\")\n",
    "print(persona1.nombre)\n",
    "print(persona1.edad)\n",
    "print(\"Atributos protegidos\")\n",
    "print(persona1._estado_civil)\n",
    "print(\"Atributos privados\")\n",
    "print(persona1.__dni)##No se puede acceder pq es privado"
   ]
  },
  {
   "cell_type": "code",
   "execution_count": 23,
   "id": "6f9c6691",
   "metadata": {},
   "outputs": [
    {
     "name": "stdout",
     "output_type": "stream",
     "text": [
      "43434343\n",
      "43434343\n"
     ]
    }
   ],
   "source": [
    "print(persona1.get_dni())\n",
    "print(persona1._Persona__dni)##se puede saltar el privado pero  NO SE DEBE HACER"
   ]
  },
  {
   "cell_type": "code",
   "execution_count": 24,
   "id": "e3b90141",
   "metadata": {},
   "outputs": [],
   "source": [
    "class Persona:\n",
    "    def __init__(self, nombre, edad, estado_civil, dni):\n",
    "        self.nombre=nombre #Atributo publico\n",
    "        self.edad=edad\n",
    "        self._estado_civil=estado_civil #atributo protegido\n",
    "        self.__dni=dni #atributo privado\n",
    "\n",
    "    @property\n",
    "    def estado_civil(self):\n",
    "        return self._estado_civil\n",
    "    \n",
    "    @estado_civil.setter\n",
    "    def estado_civil(self, nuevo_valor):\n",
    "        self._estado_civil=nuevo_valor\n",
    "\n",
    "    @property\n",
    "    def dni(self):\n",
    "        return self.__dni\n",
    "    \n",
    "    @dni.setter\n",
    "    def set_dni(self, nuevo_valor):\n",
    "        self.__dni=nuevo_valor"
   ]
  },
  {
   "cell_type": "code",
   "execution_count": 25,
   "id": "4d76f89d",
   "metadata": {},
   "outputs": [
    {
     "name": "stdout",
     "output_type": "stream",
     "text": [
      "Atributos publicos\n",
      "Marco\n",
      "39\n",
      "Atributos protegidos\n",
      "Casado\n",
      "Atributos privados\n",
      "43434343\n"
     ]
    }
   ],
   "source": [
    "persona1=Persona(\"Marco\", 39, \"Casado\", 43434343)\n",
    "\n",
    "print(\"Atributos publicos\")\n",
    "print(persona1.nombre)\n",
    "print(persona1.edad)\n",
    "print(\"Atributos protegidos\")\n",
    "print(persona1.estado_civil)\n",
    "print(\"Atributos privados\")\n",
    "print(persona1.dni)\n"
   ]
  },
  {
   "cell_type": "markdown",
   "id": "91642783",
   "metadata": {},
   "source": [
    "## Herencia"
   ]
  },
  {
   "cell_type": "code",
   "execution_count": 33,
   "id": "42446885",
   "metadata": {},
   "outputs": [],
   "source": [
    "class Mamifero:\n",
    "    def __init__(self, especie, tamanio, peso):\n",
    "        self.especie=especie\n",
    "        self.tamanio=tamanio\n",
    "        self.peso=peso\n",
    "\n",
    "    def moverse(self):\n",
    "        print(\"Me estoy moviendo\")\n",
    "\n",
    "class Mascota(Mamifero):\n",
    "    def __init__(self, especie, tamanio, peso, nombre, raza):\n",
    "        super().__init__(especie, tamanio, peso)\n",
    "        self.nombre=nombre\n",
    "        self.raza=raza\n",
    "\n",
    "    def comer(self):\n",
    "        print(\"Estoy comiendo\")\n",
    "\n",
    "class Perro(Mascota):\n",
    "    def __init__(self, especie, tamanio, peso, nombre, raza, vacunado):\n",
    "        super().__init__(especie, tamanio, peso, nombre, raza)\n",
    "        self.vacunado=vacunado\n",
    "    \n",
    "    def ladrar(self):\n",
    "        print(\"Guau\")"
   ]
  },
  {
   "cell_type": "code",
   "execution_count": 35,
   "id": "29995d1d",
   "metadata": {},
   "outputs": [
    {
     "name": "stdout",
     "output_type": "stream",
     "text": [
      "Mascota 1:\n",
      "Perro\n",
      "Variado\n",
      "Variado\n",
      "Baco\n",
      "Braco\n",
      "Me estoy moviendo\n",
      "Estoy comiendo\n",
      "Perro 1:\n",
      "Perro\n",
      "pequenio\n",
      "5kg\n",
      "Balu\n",
      "Mestizo\n",
      "True\n"
     ]
    }
   ],
   "source": [
    "mascota1=Mascota(\"Perro\", \"Variado\", \"Variado\", \"Baco\", \"Braco\")\n",
    "\n",
    "print(\"Mascota 1:\")\n",
    "print(mascota1.especie)\n",
    "print(mascota1.tamanio)\n",
    "print(mascota1.peso)\n",
    "print(mascota1.nombre)\n",
    "print(mascota1.raza)\n",
    "\n",
    "mascota1.moverse()\n",
    "mascota1.comer()\n",
    "\n",
    "perro1=Perro(\"Perro\", \"pequenio\", \"5kg\", \"Balu\", \"Mestizo\", True)\n",
    "print(\"Perro 1:\")\n",
    "print(perro1.especie)\n",
    "print(perro1.tamanio)\n",
    "print(perro1.peso)\n",
    "print(perro1.nombre)\n",
    "print(perro1.raza)\n",
    "print(perro1.vacunado)"
   ]
  },
  {
   "cell_type": "markdown",
   "id": "21cdbf4d",
   "metadata": {},
   "source": [
    "## Polimorfismo"
   ]
  },
  {
   "cell_type": "code",
   "execution_count": 39,
   "id": "74e32cbe",
   "metadata": {},
   "outputs": [],
   "source": [
    "class Mascota:\n",
    "    def hablar(self):\n",
    "        print(\"Hace un sonido\") ##Varios metodos iguales\n",
    "\n",
    "class Perro(Mascota):\n",
    "    def hablar(self):\n",
    "        print(\"Guau\")\n",
    "\n",
    "class Gato(Mascota):\n",
    "    def hablar(self):\n",
    "        print(\"Miau\")\n",
    "\n",
    "class Loro(Mascota):\n",
    "    def hablar(self):\n",
    "        super().hablar()\n",
    "        print(\"El loro habla\")"
   ]
  },
  {
   "cell_type": "code",
   "execution_count": 40,
   "id": "e1afd943",
   "metadata": {},
   "outputs": [
    {
     "name": "stdout",
     "output_type": "stream",
     "text": [
      "Hace un sonido\n",
      "Guau\n",
      "Miau\n",
      "Hace un sonido\n",
      "El loro habla\n"
     ]
    }
   ],
   "source": [
    "mascota1=Mascota()\n",
    "perro1=Perro()\n",
    "gato1=Gato()\n",
    "loro1=Loro()\n",
    "\n",
    "mascota1.hablar()\n",
    "perro1.hablar()\n",
    "gato1.hablar()\n",
    "loro1.hablar()\n",
    "\n"
   ]
  },
  {
   "cell_type": "code",
   "execution_count": null,
   "id": "37127be7",
   "metadata": {},
   "outputs": [],
   "source": [
    "class Mascota:\n",
    "    def __init__(self, nombre , especie):\n",
    "        self.nombre=nombre\n",
    "        self.especie=especie\n",
    "\n",
    "    def hablar():\n",
    "        pass ##no esta implementada, asi que las hijas la van a implementar"
   ]
  }
 ],
 "metadata": {
  "kernelspec": {
   "display_name": "Python 3",
   "language": "python",
   "name": "python3"
  },
  "language_info": {
   "codemirror_mode": {
    "name": "ipython",
    "version": 3
   },
   "file_extension": ".py",
   "mimetype": "text/x-python",
   "name": "python",
   "nbconvert_exporter": "python",
   "pygments_lexer": "ipython3",
   "version": "3.11.9"
  }
 },
 "nbformat": 4,
 "nbformat_minor": 5
}
